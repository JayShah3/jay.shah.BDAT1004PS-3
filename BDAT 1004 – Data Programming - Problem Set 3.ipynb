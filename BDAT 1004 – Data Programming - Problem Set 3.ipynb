{
 "cells": [
  {
   "cell_type": "markdown",
   "id": "63c4a986",
   "metadata": {},
   "source": [
    "# BDAT1004 - Data Programming\n",
    "## Problem Set 3 - Python\n"
   ]
  },
  {
   "cell_type": "markdown",
   "id": "4570903a",
   "metadata": {},
   "source": [
    "> Introduction: Special thanks to: https://github.com/justmarkham for sharing the dataset and materials.\n",
    "\n",
    "<h3> Q1 Occupations</h3>\n",
    "\n",
    "---\n",
    "\n",
    "Step 1. Import the necessary libraries<br>\n",
    "Step 2. Import the dataset from this address<br>\n",
    "Step 3. Assign it to a variable called users<br>\n",
    "Step 4. Discover what is the mean age per occupation<br>\n",
    "Step 5. Discover the Male ratio per occupation and sort it from the most to the least<br>\n",
    "Step 6. For each occupation, calculate the minimum and maximum ages<br>\n",
    "Step 7. For each combination of occupation and sex, calculate the mean age<br>\n",
    "Step 8. For each occupation present the percentage of women and men<br>"
   ]
  },
  {
   "cell_type": "markdown",
   "id": "87687dec",
   "metadata": {},
   "source": [
    "### Step 1. Import the necessary libraries"
   ]
  },
  {
   "cell_type": "code",
   "execution_count": 1,
   "id": "27124226",
   "metadata": {},
   "outputs": [],
   "source": [
    "import pandas as pd"
   ]
  },
  {
   "cell_type": "markdown",
   "id": "99713474",
   "metadata": {},
   "source": [
    "### Step 2. Import the dataset from this address\n",
    "### Step 3. Assign it to a variable called users"
   ]
  },
  {
   "cell_type": "code",
   "execution_count": 26,
   "id": "e9c70617",
   "metadata": {},
   "outputs": [
    {
     "ename": "SyntaxError",
     "evalue": "invalid syntax (1604774994.py, line 4)",
     "output_type": "error",
     "traceback": [
      "\u001b[1;36m  Input \u001b[1;32mIn [26]\u001b[1;36m\u001b[0m\n\u001b[1;33m    users = pd.read_csvimported dataset is assigned to variable called 'users'('https://raw.githubusercontent.com/justmarkham/DAT8/master/data/u.user', delimiter='|')\u001b[0m\n\u001b[1;37m                                ^\u001b[0m\n\u001b[1;31mSyntaxError\u001b[0m\u001b[1;31m:\u001b[0m invalid syntax\n"
     ]
    }
   ],
   "source": [
    "# The dataset from this link has been used. (https://raw.githubusercontent.com/justmarkham/DAT8/master/data/u.user)\n",
    "\n",
    "# The imported dataset is allocated to the variable 'users.'\n",
    "users = pd.read_csvimported dataset is assigned to variable called 'users'('https://raw.githubusercontent.com/justmarkham/DAT8/master/data/u.user', delimiter='|') "
   ]
  },
  {
   "cell_type": "markdown",
   "id": "6b12c49c",
   "metadata": {},
   "source": [
    "### Step 4. Discover what is the mean age per occupation"
   ]
  },
  {
   "cell_type": "code",
   "execution_count": null,
   "id": "3861fad2",
   "metadata": {},
   "outputs": [],
   "source": [
    "#To find the mean, we must first sort the data by \"occupation.\"\n",
    "\n",
    "mean_age_per_occupation = users[['occupation', 'age']].groupby('occupation').mean()\n",
    "\n",
    "mean_age_per_occupation"
   ]
  },
  {
   "cell_type": "markdown",
   "id": "566f9375",
   "metadata": {},
   "source": [
    "### Step 5. Discover the Male ratio per occupation and sort it from the most to the least"
   ]
  },
  {
   "cell_type": "code",
   "execution_count": 27,
   "id": "0375d7df",
   "metadata": {},
   "outputs": [
    {
     "ename": "NameError",
     "evalue": "name 'users' is not defined",
     "output_type": "error",
     "traceback": [
      "\u001b[1;31m---------------------------------------------------------------------------\u001b[0m",
      "\u001b[1;31mNameError\u001b[0m                                 Traceback (most recent call last)",
      "Input \u001b[1;32mIn [27]\u001b[0m, in \u001b[0;36m<cell line: 2>\u001b[1;34m()\u001b[0m\n\u001b[0;32m      1\u001b[0m \u001b[38;5;66;03m# Extract the gender and occupation from the dataset we have.\u001b[39;00m\n\u001b[1;32m----> 2\u001b[0m df \u001b[38;5;241m=\u001b[39m \u001b[43musers\u001b[49m[[\u001b[38;5;124m'\u001b[39m\u001b[38;5;124mgender\u001b[39m\u001b[38;5;124m'\u001b[39m, \u001b[38;5;124m'\u001b[39m\u001b[38;5;124moccupation\u001b[39m\u001b[38;5;124m'\u001b[39m]]\n\u001b[0;32m      4\u001b[0m \u001b[38;5;66;03m# Filter \"male\" from the gender in \"df\" now.\u001b[39;00m\n\u001b[0;32m      5\u001b[0m males \u001b[38;5;241m=\u001b[39m df\u001b[38;5;241m.\u001b[39mloc[df[\u001b[38;5;124m'\u001b[39m\u001b[38;5;124mgender\u001b[39m\u001b[38;5;124m'\u001b[39m] \u001b[38;5;241m==\u001b[39m \u001b[38;5;124m'\u001b[39m\u001b[38;5;124mM\u001b[39m\u001b[38;5;124m'\u001b[39m]\n",
      "\u001b[1;31mNameError\u001b[0m: name 'users' is not defined"
     ]
    }
   ],
   "source": [
    "# Extract the gender and occupation from the dataset we have.\n",
    "df = users[['gender', 'occupation']]\n",
    "\n",
    "# Filter \"male\" from the gender in \"df\" now.\n",
    "males = df.loc[df['gender'] == 'M']\n",
    "\n",
    "# In df Sort and count by occupation \n",
    "group_by_occupations = df.groupby('occupation').count()\n",
    "\n",
    "# Males are grouped by occupation and counted.\n",
    "male_count_by_occupation = males.groupby('occupation').count()\n",
    "\n",
    "# Let's calculate the male-to-ocupation ratio.\n",
    "male_ratio_per_occupation = male_count_by_occupation / group_by_occupations\n",
    "\n",
    "male_ratio_per_occupation.sort_values(ascending=False, by='gender')"
   ]
  },
  {
   "cell_type": "markdown",
   "id": "f331c5fe",
   "metadata": {},
   "source": [
    "### Step 6. For each occupation, calculate the minimum and maximum ages"
   ]
  },
  {
   "cell_type": "code",
   "execution_count": null,
   "id": "1d184ed7",
   "metadata": {},
   "outputs": [],
   "source": [
    "df = users[['occupation', 'age']]\n",
    "\n",
    "occupations_min_age = df.groupby('occupation').min()\n",
    "\n",
    "occupations_max_age = df.groupby('occupation').max()\n",
    "\n",
    "result = pd.concat([occupations_max_age, occupations_min_age], axis=1)\n",
    "\n",
    "result"
   ]
  },
  {
   "cell_type": "markdown",
   "id": "c8eb001f",
   "metadata": {},
   "source": [
    "### Step 7. For each combination of occupation and sex, calculate the mean age"
   ]
  },
  {
   "cell_type": "code",
   "execution_count": null,
   "id": "8b51c325",
   "metadata": {},
   "outputs": [],
   "source": [
    "df = users[['occupation', 'gender', 'age']]\n",
    "\n",
    "users_mean_age_by_occupation_and_gender = df.groupby(['occupation', 'gender']).mean()\n",
    "\n",
    "users_mean_age_by_occupation_and_gender"
   ]
  },
  {
   "cell_type": "markdown",
   "id": "a4c550d2",
   "metadata": {},
   "source": [
    "### Step 8. For each occupation present the percentage of women and men"
   ]
  },
  {
   "cell_type": "code",
   "execution_count": null,
   "id": "45a2dfbd",
   "metadata": {},
   "outputs": [],
   "source": [
    "gender_percentage_by_occupation = df.groupby('occupation')['gender'].value_counts(normalize=True)*100\n",
    "\n",
    "gender_percentage_by_occupation"
   ]
  },
  {
   "cell_type": "markdown",
   "id": "2987e94b",
   "metadata": {},
   "source": [
    "<h3> Q2 Euro Teams</h3>\n",
    "\n",
    "---\n",
    "\n",
    "Step 1. Import the necessary libraries<br>\n",
    "Step 2. Import the dataset from this address<br>\n",
    "Step 3. Assign it to a variable called euro12<br>\n",
    "Step 4. Select only the Goal column<br>\n",
    "Step 5. How many team participated in the Euro2012?<br>\n",
    "Step 6. What is the number of columns in the dataset?<br>\n",
    "Step 7. View only the columns Team, Yellow Cards and Red Cards and assign them to a dataframe called discipline<br>\n",
    "Step 8. Sort the teams by Red Cards, then to Yellow Cards<br>\n",
    "Step 9. Calculate the mean Yellow Cards given per Team<br>\n",
    "Step 10. Filter teams that scored more than 6 goals<br>\n",
    "Step 11. Select the teams that start with G<br>\n",
    "Step 12. Select the first 7 columns<br>\n",
    "Step 13. Select all columns except the last 3<br>\n",
    "Step 14. Present only the Shooting Accuracy from England, Italy and Russia<br>"
   ]
  },
  {
   "cell_type": "markdown",
   "id": "d470ae74",
   "metadata": {},
   "source": [
    "### Step 1. Import the neccessary libraries"
   ]
  },
  {
   "cell_type": "code",
   "execution_count": null,
   "id": "8ca5945e",
   "metadata": {},
   "outputs": [],
   "source": [
    "import pandas as pd"
   ]
  },
  {
   "cell_type": "markdown",
   "id": "0c96c5d0",
   "metadata": {},
   "source": [
    "### Step 2. Import the dataset from this address\n",
    "### Step 3. Assign it to a variable called euro12"
   ]
  },
  {
   "cell_type": "code",
   "execution_count": null,
   "id": "7530ef42",
   "metadata": {},
   "outputs": [],
   "source": [
    "euro12 = pd.read_csv('https://raw.githubusercontent.com/guipsamora/pandas_exercises/master/02_Filtering_%26_Sorting/Euro12/Euro_2012_stats_TEAM.csv')"
   ]
  },
  {
   "cell_type": "markdown",
   "id": "b3a5ee68",
   "metadata": {},
   "source": [
    "### Step 4. Select only the Goal column"
   ]
  },
  {
   "cell_type": "code",
   "execution_count": null,
   "id": "348df9d9",
   "metadata": {},
   "outputs": [],
   "source": [
    "goals = euro12[['Goals']]\n",
    "\n",
    "goals"
   ]
  },
  {
   "cell_type": "markdown",
   "id": "a39f0baa",
   "metadata": {},
   "source": [
    "### Step 5. How many team participated in the Euro2012?"
   ]
  },
  {
   "cell_type": "code",
   "execution_count": null,
   "id": "f1763171",
   "metadata": {},
   "outputs": [],
   "source": [
    "teams = euro12['Team'].count()\n",
    "\n",
    "print(f'In total, {teams} teams teams participated in in Euro2012.')"
   ]
  },
  {
   "cell_type": "markdown",
   "id": "5aba35a1",
   "metadata": {},
   "source": [
    "### Step 6. What is the number of columns in the dataset?"
   ]
  },
  {
   "cell_type": "code",
   "execution_count": null,
   "id": "dbba0340",
   "metadata": {},
   "outputs": [],
   "source": [
    "print(f'There are total {euro12.shape[1]} columns in the dataset.')"
   ]
  },
  {
   "cell_type": "markdown",
   "id": "5659dd2f",
   "metadata": {},
   "source": [
    "### Step 7. View only the columns Team, Yellow Cards and Red Cards and assign them to a dataframe called discipline"
   ]
  },
  {
   "cell_type": "code",
   "execution_count": null,
   "id": "4f6d2ec2",
   "metadata": {},
   "outputs": [],
   "source": [
    "discipline = euro12[['Team', 'Yellow Cards', 'Red Cards']]\n",
    "\n",
    "discipline"
   ]
  },
  {
   "cell_type": "markdown",
   "id": "eb4dabd0",
   "metadata": {},
   "source": [
    "### Step 8. Sort the teams by Red Cards, then to Yellow Cards"
   ]
  },
  {
   "cell_type": "code",
   "execution_count": null,
   "id": "b266bfcb",
   "metadata": {},
   "outputs": [],
   "source": [
    "euro12[['Team', 'Red Cards', 'Yellow Cards']].sort_values(by=['Red Cards','Yellow Cards'])"
   ]
  },
  {
   "cell_type": "markdown",
   "id": "2e2536b7",
   "metadata": {},
   "source": [
    "### Step 9. Calculate the mean Yellow Cards given per Team"
   ]
  },
  {
   "cell_type": "code",
   "execution_count": null,
   "id": "12f6f4cd",
   "metadata": {},
   "outputs": [],
   "source": [
    "print(f\"Mean Yellow Cards given per Team = {discipline['Yellow Cards'].mean()}\")"
   ]
  },
  {
   "cell_type": "markdown",
   "id": "9d0fe992",
   "metadata": {},
   "source": [
    "### Step 10. Filter teams that scored more than 6 goals"
   ]
  },
  {
   "cell_type": "code",
   "execution_count": null,
   "id": "7e48f8e9",
   "metadata": {},
   "outputs": [],
   "source": [
    "euro12[['Team','Goals']].loc[euro12['Goals'] > 6 ]"
   ]
  },
  {
   "cell_type": "markdown",
   "id": "12377d1e",
   "metadata": {},
   "source": [
    "### Step 11. Select the teams that start with G"
   ]
  },
  {
   "cell_type": "code",
   "execution_count": null,
   "id": "5f54d6fe",
   "metadata": {},
   "outputs": [],
   "source": [
    "euro12[euro12['Team'].str.startswith('G')]"
   ]
  },
  {
   "cell_type": "markdown",
   "id": "1952be7e",
   "metadata": {},
   "source": [
    "### Step 12. Select the first 7 columns"
   ]
  },
  {
   "cell_type": "code",
   "execution_count": null,
   "id": "e955cef2",
   "metadata": {},
   "outputs": [],
   "source": [
    "euro12.iloc[:, :7] # We may extract the first 7 columns using slicer."
   ]
  },
  {
   "cell_type": "markdown",
   "id": "8fe01857",
   "metadata": {},
   "source": [
    "### Step 13. Select all columns except the last 3"
   ]
  },
  {
   "cell_type": "code",
   "execution_count": null,
   "id": "6d2b8937",
   "metadata": {},
   "outputs": [],
   "source": [
    "euro12.iloc[:,:-3] # All columns except the last three can be removed using Slicer."
   ]
  },
  {
   "cell_type": "markdown",
   "id": "1d9d0f7e",
   "metadata": {},
   "source": [
    "### Step 14. Present only the Shooting Accuracy from England, Italy and Russia"
   ]
  },
  {
   "cell_type": "code",
   "execution_count": null,
   "id": "de128208",
   "metadata": {},
   "outputs": [],
   "source": [
    "filter_teams_by_countries = (euro12['Team'] == 'England') | (euro12['Team'] == 'Italy') | (euro12['Team'] == 'Russia') \n",
    "euro12.loc[filter_teams_by_countries, ['Team', 'Shooting Accuracy']]"
   ]
  },
  {
   "cell_type": "markdown",
   "id": "df98dc08",
   "metadata": {},
   "source": [
    "<h3> Q3 Housing</h3>\n",
    "\n",
    "---\n",
    "\n",
    "Step 1. Import the necessary libraries<br>\n",
    "Step 2. Create 3 differents Series, each of length 100, as follows:\n",
    "  - The first a random number from 1 to 4<br>\n",
    "  - The second a random number from 1 to 3<br>\n",
    "  - The third a random number from 10,000 to 30,000<br>\n",
    "\n",
    "Step 3. Create a DataFrame by joinning the Series by column<br>\n",
    "Step 4. Change the name of the columns to bedrs, bathrs, price_sqr_meter<br>\n",
    "Step 5. Create a one column DataFrame with the values of the 3 Series and assign it to 'bigcolumn'<br>\n",
    "Step 6. Ops it seems it is going only until index 99. Is it true?<br>\n",
    "Step 7. Reindex the DataFrame so it goes from 0 to 299"
   ]
  },
  {
   "cell_type": "markdown",
   "id": "187c24e2",
   "metadata": {},
   "source": [
    "### Step 1. Import the necessary libraries"
   ]
  },
  {
   "cell_type": "code",
   "execution_count": null,
   "id": "7d012788",
   "metadata": {},
   "outputs": [],
   "source": [
    "import pandas as pd\n",
    "import numpy as np"
   ]
  },
  {
   "cell_type": "markdown",
   "id": "b8df906d",
   "metadata": {},
   "source": [
    "### Step 2. Create 3 differents Series, each of length 100, as follows:\n",
    "  - The first a random number from 1 to 4<br>\n",
    "  - The second a random number from 1 to 3<br>\n",
    "  - The third a random number from 10,000 to 30,000<br>"
   ]
  },
  {
   "cell_type": "code",
   "execution_count": null,
   "id": "ed307eeb",
   "metadata": {},
   "outputs": [],
   "source": [
    "seriesA = pd.Series(np.random.randint(1, 5, size=100), name = 's1')\n",
    "\n",
    "seriesB = pd.Series(np.random.randint(1, 4, size=100), name = 's2')\n",
    "\n",
    "seriesC = pd.Series(np.random.randint(10000, 30001, size=100), name = 's3')"
   ]
  },
  {
   "cell_type": "markdown",
   "id": "72dd3926",
   "metadata": {},
   "source": [
    "### Step 3. Create a DataFrame by joinning the Series by column"
   ]
  },
  {
   "cell_type": "code",
   "execution_count": null,
   "id": "661b9d61",
   "metadata": {},
   "outputs": [],
   "source": [
    "df = pd.concat([seriesA, seriesB, seriesC], axis=1)\n",
    "\n",
    "df"
   ]
  },
  {
   "cell_type": "markdown",
   "id": "22f52b3f",
   "metadata": {},
   "source": [
    "### Step 4. Change the name of the columns to bedrs, bathrs, price_sqr_meter"
   ]
  },
  {
   "cell_type": "code",
   "execution_count": null,
   "id": "e0447cc4",
   "metadata": {},
   "outputs": [],
   "source": [
    "df.rename(columns={\"s1\": \"bedrs\", \"s2\": \"bathrs\", \"s3\": \"price_sqr_meter\"}, inplace=True)\n",
    "\n",
    "df"
   ]
  },
  {
   "cell_type": "markdown",
   "id": "29406abf",
   "metadata": {},
   "source": [
    "### Step 5. Create a one column DataFrame with the values of the 3 Series and assign it to 'bigcolumn'"
   ]
  },
  {
   "cell_type": "code",
   "execution_count": null,
   "id": "4ee96be3",
   "metadata": {},
   "outputs": [],
   "source": [
    "bigcolumn = df['bedrs'].astype(str) + df['bathrs'].astype(str) + df['price_sqr_meter'].astype(str)\n",
    "\n",
    "bigcolumn"
   ]
  },
  {
   "cell_type": "markdown",
   "id": "a4d8912e",
   "metadata": {},
   "source": [
    "### Step 6. Ops it seems it is going only until index 99. Is it true?"
   ]
  },
  {
   "cell_type": "markdown",
   "id": "d5842b7d",
   "metadata": {},
   "source": [
    "Yes, the index is going till 99"
   ]
  },
  {
   "cell_type": "markdown",
   "id": "c19b0980",
   "metadata": {},
   "source": [
    "### Step 7. Reindex the DataFrame so it goes from 0 to 299"
   ]
  },
  {
   "cell_type": "code",
   "execution_count": null,
   "id": "85eb5e63",
   "metadata": {},
   "outputs": [],
   "source": [
    "bigcolumn.reindex(range(0, 300))"
   ]
  },
  {
   "cell_type": "markdown",
   "id": "a1c38e6d",
   "metadata": {},
   "source": [
    "<h3> Q4 Wind Statistics</h3>\n",
    "\n",
    "---\n",
    "\n",
    "The data have been modified to contain some missing values, identified by NaN.\n",
    "Using pandas should make this exercise easier, in particular for the bonus question.\n",
    "You should be able to perform all of these operations without using a for loop or other looping construct.\n",
    "\n",
    "The first three columns are year, month, and day. The remaining 12 columns are average windspeeds in knots at 12 locations in Ireland on that day.\n",
    "\n",
    "Step 1. Import the necessary libraries<br>\n",
    "Step 2. Import the dataset from the attached file wind.txt<br>\n",
    "Step 3. Assign it to a variable called data and replace the first 3 columns by a proper datetime index.<br>\n",
    "Step 4. Year 2061? Do we really have data from this year? Create a function to fix it and apply it.<br>\n",
    "Step 5. Set the right dates as the index. Pay attention at the data type, it should be datetime64[ns].<br>\n",
    "Step 6. Compute how many values are missing for each location over the entire record.They should be ignored in all calculations below.<br>\n",
    "Step 7. Compute how many non-missing values there are in total.<br>\n",
    "Step 8. Calculate the mean windspeeds of the windspeeds over all the locations and all the times. A single number for the entire dataset.<br>\n",
    "Step 9. Create a DataFrame called loc_stats and calculate the min, max and mean windspeeds and standard deviations of the windspeeds at each location over all the days A different set of numbers for each location.<br>\n",
    "Step 10. Create a DataFrame called day_stats and calculate the min, max and mean windspeed and standard deviations of the windspeeds across all the locations at each day. A different set of numbers for each day.<br>\n",
    "Step 11. Find the average windspeed in January for each location. Treat January 1961 and January 1962 both as January.<br>\n",
    "Step 12. Downsample the record to a yearly frequency for each location.<br>\n",
    "Step 13. Downsample the record to a monthly frequency for each location.<br>\n",
    "Step 14. Downsample the record to a weekly frequency for each location.<br>\n",
    "Step 15. Calculate the min, max and mean windspeeds and standard deviations of the windspeeds across all locations for each week (assume that the first week starts on January 2 1961) for the first 52 weeks.<br>"
   ]
  },
  {
   "cell_type": "markdown",
   "id": "862ec356",
   "metadata": {},
   "source": [
    "### Step 1. Import the necessary libraries"
   ]
  },
  {
   "cell_type": "code",
   "execution_count": null,
   "id": "5e2d8303",
   "metadata": {},
   "outputs": [],
   "source": [
    "import pandas as pd"
   ]
  },
  {
   "cell_type": "markdown",
   "id": "68571a92",
   "metadata": {},
   "source": [
    "### Step 2. Import the dataset from the attached file wind.txt"
   ]
  },
  {
   "cell_type": "code",
   "execution_count": null,
   "id": "1980614a",
   "metadata": {},
   "outputs": [],
   "source": [
    "data = pd.read_csv('wind.txt', delimiter='\\s+')"
   ]
  },
  {
   "cell_type": "markdown",
   "id": "24a77a78",
   "metadata": {},
   "source": [
    "### Step 3. Assign it to a variable called data and replace the first 3 columns by a proper datetime index."
   ]
  },
  {
   "cell_type": "code",
   "execution_count": null,
   "id": "502c0012",
   "metadata": {},
   "outputs": [],
   "source": [
    "data.rename(columns={\"Yr\":\"Year\", \"Mo\":\"Month\", \"Dy\":\"Day\"}, inplace=True)\n",
    "\n",
    "data"
   ]
  },
  {
   "cell_type": "markdown",
   "id": "f0164101",
   "metadata": {},
   "source": [
    "### Step 4. Year 2061? Do we really have data from this year? Create a function to fix it and apply it."
   ]
  },
  {
   "cell_type": "code",
   "execution_count": null,
   "id": "a6682b9d",
   "metadata": {},
   "outputs": [],
   "source": [
    "def fixYear():\n",
    "    data['Year'] += 1900 #\n",
    "\n",
    "fixYear()\n",
    "\n",
    "data"
   ]
  },
  {
   "cell_type": "markdown",
   "id": "0b306168",
   "metadata": {},
   "source": [
    "### Step 5. Set the right dates as the index. Pay attention at the data type, it should be datetime64[ns]."
   ]
  },
  {
   "cell_type": "code",
   "execution_count": null,
   "id": "b6acb166",
   "metadata": {},
   "outputs": [],
   "source": [
    "data.index = pd.to_datetime(pd.concat([data['Year'], data['Month'], data['Day']], axis=1)) # setting the index\n",
    "\n",
    "data.drop(['Year','Month','Day'], axis=1, inplace=True)\n",
    "\n",
    "data"
   ]
  },
  {
   "cell_type": "code",
   "execution_count": null,
   "id": "27999564",
   "metadata": {},
   "outputs": [],
   "source": [
    "data.index "
   ]
  },
  {
   "cell_type": "markdown",
   "id": "8d43f963",
   "metadata": {},
   "source": [
    "### Step 6. Compute how many values are missing for each location over the entire record.They should be ignored in all calculations below."
   ]
  },
  {
   "cell_type": "code",
   "execution_count": null,
   "id": "78a40647",
   "metadata": {},
   "outputs": [],
   "source": [
    "data.isna().sum()"
   ]
  },
  {
   "cell_type": "code",
   "execution_count": null,
   "id": "ebe3ddb8",
   "metadata": {},
   "outputs": [],
   "source": [
    "data.isnull().sum().sum()"
   ]
  },
  {
   "cell_type": "markdown",
   "id": "ca81c866",
   "metadata": {},
   "source": [
    "### Step 7. Compute how many non-missing values there are in total."
   ]
  },
  {
   "cell_type": "code",
   "execution_count": null,
   "id": "6dcd5074",
   "metadata": {},
   "outputs": [],
   "source": [
    "data.notnull().sum().sum()"
   ]
  },
  {
   "cell_type": "markdown",
   "id": "71327efe",
   "metadata": {},
   "source": [
    "### Step 8. Calculate the mean windspeeds of the windspeeds over all the locations and all the times. A single number for the entire dataset."
   ]
  },
  {
   "cell_type": "code",
   "execution_count": null,
   "id": "271ae6ac",
   "metadata": {},
   "outputs": [],
   "source": [
    "data.mean().mean()"
   ]
  },
  {
   "cell_type": "markdown",
   "id": "02f8f01f",
   "metadata": {},
   "source": [
    "### Step 9. Create a DataFrame called loc_stats and calculate the min, max and mean windspeeds and standard deviations of the windspeeds at each location over all the days. A different set of numbers for each location."
   ]
  },
  {
   "cell_type": "code",
   "execution_count": null,
   "id": "34649b82",
   "metadata": {},
   "outputs": [],
   "source": [
    "loc_stats = pd.concat([data.min(), data.max(), data.mean(), data.std()], axis=1) \n",
    "\n",
    "loc_stats.rename(columns={0:'Min', 1:'Max', 2:'Mean', 3:'Std'}, inplace=True) \n",
    "\n",
    "loc_stats"
   ]
  },
  {
   "cell_type": "markdown",
   "id": "dfb9830f",
   "metadata": {},
   "source": [
    "### Step 10. Create a DataFrame called day_stats and calculate the min, max and mean windspeed and standard deviations of the windspeeds across all the locations at each day. A different set of numbers for each day."
   ]
  },
  {
   "cell_type": "code",
   "execution_count": null,
   "id": "71c777d9",
   "metadata": {},
   "outputs": [],
   "source": [
    "day_stats = pd.concat([data.min(axis=1), data.max(axis=1), data.mean(axis=1), data.std(axis=1)], axis=1)\n",
    "\n",
    "day_stats.rename(columns={0:'Min',1:'Max',2:'Mean',3:'Std'}, inplace=True)\n",
    "\n",
    "day_stats"
   ]
  },
  {
   "cell_type": "markdown",
   "id": "0a82075c",
   "metadata": {},
   "source": [
    "### Step 11. Find the average windspeed in January for each location. Treat January 1961 and January 1962 both as January."
   ]
  },
  {
   "cell_type": "code",
   "execution_count": null,
   "id": "829e3a03",
   "metadata": {},
   "outputs": [],
   "source": [
    "avg_windspeed_in_jan = data[data.index.month == 1].mean()\n",
    "\n",
    "avg_windspeed_in_jan"
   ]
  },
  {
   "cell_type": "markdown",
   "id": "685b2635",
   "metadata": {},
   "source": [
    "### Step 12. Downsample the record to a yearly frequency for each location."
   ]
  },
  {
   "cell_type": "code",
   "execution_count": null,
   "id": "3b489f8b",
   "metadata": {},
   "outputs": [],
   "source": [
    "yearly = data.resample('Y').ffill()\n",
    "\n",
    "yearly"
   ]
  },
  {
   "cell_type": "markdown",
   "id": "5d859d15",
   "metadata": {},
   "source": [
    "### Step 13. Downsample the record to a monthly frequency for each location."
   ]
  },
  {
   "cell_type": "code",
   "execution_count": null,
   "id": "2ef209df",
   "metadata": {},
   "outputs": [],
   "source": [
    "monthly = data.resample('M').ffill()\n",
    "\n",
    "monthly"
   ]
  },
  {
   "cell_type": "markdown",
   "id": "3490b8d4",
   "metadata": {},
   "source": [
    "### Step 14. Downsample the record to a weekly frequency for each location."
   ]
  },
  {
   "cell_type": "code",
   "execution_count": 3,
   "id": "0d86a607",
   "metadata": {},
   "outputs": [
    {
     "ename": "NameError",
     "evalue": "name 'data' is not defined",
     "output_type": "error",
     "traceback": [
      "\u001b[1;31m---------------------------------------------------------------------------\u001b[0m",
      "\u001b[1;31mNameError\u001b[0m                                 Traceback (most recent call last)",
      "Input \u001b[1;32mIn [3]\u001b[0m, in \u001b[0;36m<cell line: 1>\u001b[1;34m()\u001b[0m\n\u001b[1;32m----> 1\u001b[0m weekly \u001b[38;5;241m=\u001b[39m \u001b[43mdata\u001b[49m\u001b[38;5;241m.\u001b[39mresample(\u001b[38;5;124m'\u001b[39m\u001b[38;5;124mW\u001b[39m\u001b[38;5;124m'\u001b[39m)\u001b[38;5;241m.\u001b[39mffill()\n\u001b[0;32m      3\u001b[0m weekly\n",
      "\u001b[1;31mNameError\u001b[0m: name 'data' is not defined"
     ]
    }
   ],
   "source": [
    "weekly = data.resample('W').ffill()\n",
    "\n",
    "weekly"
   ]
  },
  {
   "cell_type": "markdown",
   "id": "e2bc4423",
   "metadata": {},
   "source": [
    "### Step 15. Calculate the min, max and mean windspeeds and standard deviations of the windspeeds across all locations for each week (assume that the first week starts on January 2 1961) for the first 52 weeks."
   ]
  },
  {
   "cell_type": "code",
   "execution_count": null,
   "id": "faf0a001",
   "metadata": {},
   "outputs": [],
   "source": [
    "weekly_stats = weekly[:52]\n",
    "\n",
    "weekly_stats.shape[0] # Total 52 weeks in 1961"
   ]
  },
  {
   "cell_type": "code",
   "execution_count": null,
   "id": "fd468b20",
   "metadata": {},
   "outputs": [],
   "source": [
    "weekly_stats = pd.concat([weekly_stats.mean(), weekly_stats.max(), weekly_stats.mean(), weekly_stats.std()], axis=1)\n",
    "weekly_stats.rename(columns={0:'Mean',1:'Max',2:'Mean',3:'Std'},inplace=True)\n",
    "\n",
    "weekly_stats"
   ]
  },
  {
   "cell_type": "markdown",
   "id": "1012ce18",
   "metadata": {},
   "source": [
    "<h3> Q5</h3>\n",
    "\n",
    "---\n",
    "\n",
    "Step 1. Import the necessary libraries<br>\n",
    "Step 2. Import the dataset from this address.<br>\n",
    "Step 3. Assign it to a variable called chipo.<br>\n",
    "Step 4. See the first 10 entries<br>\n",
    "Step 5. What is the number of observations in the dataset?<br>\n",
    "Step 6. What is the number of columns in the dataset?<br>\n",
    "Step 7. Print the name of all the columns.<br>\n",
    "Step 8. How is the dataset indexed?<br>\n",
    "Step 9. Which was the most-ordered item?<br>\n",
    "Step 10. For the most-ordered item, how many items were ordered?<br>\n",
    "Step 11. What was the most ordered item in the choice_description column?<br>\n",
    "Step 12. How many items were orderd in total?<br>\n",
    "Step 13.<br>\n",
    "&nbsp;&nbsp;&nbsp;&nbsp;• Turn the item price into a float<br>\n",
    "&nbsp;&nbsp;&nbsp;&nbsp;• Check the item price type<br>\n",
    "&nbsp;&nbsp;&nbsp;&nbsp;• Create a lambda function and change the type of item price<br>\n",
    "&nbsp;&nbsp;&nbsp;&nbsp;• Check the item price type<br>\n",
    "Step 14. How much was the revenue for the period in the dataset?<br>\n",
    "Step 15. How many orders were made in the period?<br>\n",
    "Step 16. What is the average revenue amount per order?<br>\n",
    "Step 17. How many different items are sold?<br>"
   ]
  },
  {
   "cell_type": "markdown",
   "id": "7211052d",
   "metadata": {},
   "source": [
    "### Step 1. Import the necessary libraries"
   ]
  },
  {
   "cell_type": "code",
   "execution_count": null,
   "id": "334dec8a",
   "metadata": {},
   "outputs": [],
   "source": [
    "import pandas as pd"
   ]
  },
  {
   "cell_type": "markdown",
   "id": "e9a0e30f",
   "metadata": {},
   "source": [
    "### Step 2. Import the dataset from this address.\n",
    "### Step 3. Assign it to a variable called chipo."
   ]
  },
  {
   "cell_type": "code",
   "execution_count": null,
   "id": "826e52ad",
   "metadata": {},
   "outputs": [],
   "source": [
    "chipo = pd.read_csv('https://raw.githubusercontent.com/justmarkham/DAT8/master/data/chipotle.tsv', delimiter='\\t')"
   ]
  },
  {
   "cell_type": "markdown",
   "id": "8eba3994",
   "metadata": {},
   "source": [
    "### Step 4. See the first 10 entries"
   ]
  },
  {
   "cell_type": "code",
   "execution_count": null,
   "id": "2a275c28",
   "metadata": {},
   "outputs": [],
   "source": [
    "chipo[:10] # display first 10 rows"
   ]
  },
  {
   "cell_type": "markdown",
   "id": "4970f4ff",
   "metadata": {},
   "source": [
    "### Step 5. What is the number of observations in the dataset?"
   ]
  },
  {
   "cell_type": "code",
   "execution_count": null,
   "id": "c7c15c70",
   "metadata": {},
   "outputs": [],
   "source": [
    "chipo.shape[0]"
   ]
  },
  {
   "cell_type": "markdown",
   "id": "e55e088b",
   "metadata": {},
   "source": [
    "### Step 6. What is the number of columns in the dataset?"
   ]
  },
  {
   "cell_type": "code",
   "execution_count": null,
   "id": "b6bbd36a",
   "metadata": {},
   "outputs": [],
   "source": [
    "chipo.shape[1]"
   ]
  },
  {
   "cell_type": "markdown",
   "id": "9e2f2344",
   "metadata": {},
   "source": [
    "### Step 7. Print the name of all the columns."
   ]
  },
  {
   "cell_type": "code",
   "execution_count": 4,
   "id": "2d970131",
   "metadata": {},
   "outputs": [
    {
     "ename": "NameError",
     "evalue": "name 'chipo' is not defined",
     "output_type": "error",
     "traceback": [
      "\u001b[1;31m---------------------------------------------------------------------------\u001b[0m",
      "\u001b[1;31mNameError\u001b[0m                                 Traceback (most recent call last)",
      "Input \u001b[1;32mIn [4]\u001b[0m, in \u001b[0;36m<cell line: 1>\u001b[1;34m()\u001b[0m\n\u001b[1;32m----> 1\u001b[0m \u001b[38;5;28;01mfor\u001b[39;00m col \u001b[38;5;129;01min\u001b[39;00m \u001b[43mchipo\u001b[49m\u001b[38;5;241m.\u001b[39mcolumns:\n\u001b[0;32m      2\u001b[0m     \u001b[38;5;28mprint\u001b[39m(col, end\u001b[38;5;241m=\u001b[39m\u001b[38;5;124m'\u001b[39m\u001b[38;5;124m, \u001b[39m\u001b[38;5;124m'\u001b[39m)\n",
      "\u001b[1;31mNameError\u001b[0m: name 'chipo' is not defined"
     ]
    }
   ],
   "source": [
    "for col in chipo.columns:\n",
    "    print(col, end=', ')"
   ]
  },
  {
   "cell_type": "markdown",
   "id": "71e36943",
   "metadata": {},
   "source": [
    "### Step 8. How is the dataset indexed?"
   ]
  },
  {
   "cell_type": "code",
   "execution_count": 5,
   "id": "eb3ca31a",
   "metadata": {},
   "outputs": [
    {
     "ename": "NameError",
     "evalue": "name 'chipo' is not defined",
     "output_type": "error",
     "traceback": [
      "\u001b[1;31m---------------------------------------------------------------------------\u001b[0m",
      "\u001b[1;31mNameError\u001b[0m                                 Traceback (most recent call last)",
      "Input \u001b[1;32mIn [5]\u001b[0m, in \u001b[0;36m<cell line: 1>\u001b[1;34m()\u001b[0m\n\u001b[1;32m----> 1\u001b[0m \u001b[43mchipo\u001b[49m\u001b[38;5;241m.\u001b[39mindex\n",
      "\u001b[1;31mNameError\u001b[0m: name 'chipo' is not defined"
     ]
    }
   ],
   "source": [
    "chipo.index"
   ]
  },
  {
   "cell_type": "markdown",
   "id": "e745f15d",
   "metadata": {},
   "source": [
    "### Step 9. Which was the most-ordered item?"
   ]
  },
  {
   "cell_type": "code",
   "execution_count": 6,
   "id": "2e66bf95",
   "metadata": {},
   "outputs": [
    {
     "ename": "NameError",
     "evalue": "name 'chipo' is not defined",
     "output_type": "error",
     "traceback": [
      "\u001b[1;31m---------------------------------------------------------------------------\u001b[0m",
      "\u001b[1;31mNameError\u001b[0m                                 Traceback (most recent call last)",
      "Input \u001b[1;32mIn [6]\u001b[0m, in \u001b[0;36m<cell line: 1>\u001b[1;34m()\u001b[0m\n\u001b[1;32m----> 1\u001b[0m most_ordered_item \u001b[38;5;241m=\u001b[39m (\u001b[43mchipo\u001b[49m\u001b[38;5;241m.\u001b[39mgroupby(\u001b[38;5;124m'\u001b[39m\u001b[38;5;124mitem_name\u001b[39m\u001b[38;5;124m'\u001b[39m)\u001b[38;5;241m.\u001b[39msum())\u001b[38;5;241m.\u001b[39msort_values([\u001b[38;5;124m'\u001b[39m\u001b[38;5;124mquantity\u001b[39m\u001b[38;5;124m'\u001b[39m], ascending\u001b[38;5;241m=\u001b[39m\u001b[38;5;28;01mFalse\u001b[39;00m)\u001b[38;5;241m.\u001b[39mhead(\u001b[38;5;241m1\u001b[39m)\n\u001b[0;32m      3\u001b[0m most_ordered_item\n",
      "\u001b[1;31mNameError\u001b[0m: name 'chipo' is not defined"
     ]
    }
   ],
   "source": [
    "most_ordered_item = (chipo.groupby('item_name').sum()).sort_values(['quantity'], ascending=False).head(1)\n",
    "\n",
    "most_ordered_item"
   ]
  },
  {
   "cell_type": "markdown",
   "id": "b61f7420",
   "metadata": {},
   "source": [
    "### Step 10. For the most-ordered item, how many items were ordered?"
   ]
  },
  {
   "cell_type": "code",
   "execution_count": 7,
   "id": "a7819a6f",
   "metadata": {},
   "outputs": [
    {
     "ename": "NameError",
     "evalue": "name 'most_ordered_item' is not defined",
     "output_type": "error",
     "traceback": [
      "\u001b[1;31m---------------------------------------------------------------------------\u001b[0m",
      "\u001b[1;31mNameError\u001b[0m                                 Traceback (most recent call last)",
      "Input \u001b[1;32mIn [7]\u001b[0m, in \u001b[0;36m<cell line: 1>\u001b[1;34m()\u001b[0m\n\u001b[1;32m----> 1\u001b[0m \u001b[43mmost_ordered_item\u001b[49m[[\u001b[38;5;124m'\u001b[39m\u001b[38;5;124mquantity\u001b[39m\u001b[38;5;124m'\u001b[39m]]\n",
      "\u001b[1;31mNameError\u001b[0m: name 'most_ordered_item' is not defined"
     ]
    }
   ],
   "source": [
    "most_ordered_item[['quantity']]"
   ]
  },
  {
   "cell_type": "markdown",
   "id": "ee51bf80",
   "metadata": {},
   "source": [
    "### Step 11. What was the most ordered item in the choice_description column?"
   ]
  },
  {
   "cell_type": "code",
   "execution_count": 8,
   "id": "daf333ec",
   "metadata": {},
   "outputs": [
    {
     "ename": "NameError",
     "evalue": "name 'chipo' is not defined",
     "output_type": "error",
     "traceback": [
      "\u001b[1;31m---------------------------------------------------------------------------\u001b[0m",
      "\u001b[1;31mNameError\u001b[0m                                 Traceback (most recent call last)",
      "Input \u001b[1;32mIn [8]\u001b[0m, in \u001b[0;36m<cell line: 1>\u001b[1;34m()\u001b[0m\n\u001b[1;32m----> 1\u001b[0m most_ordered_item_in_choice_desc \u001b[38;5;241m=\u001b[39m \u001b[43mchipo\u001b[49m\u001b[38;5;241m.\u001b[39mgroupby([\u001b[38;5;124m'\u001b[39m\u001b[38;5;124mchoice_description\u001b[39m\u001b[38;5;124m'\u001b[39m])\u001b[38;5;241m.\u001b[39msum()\u001b[38;5;241m.\u001b[39msort_values(\u001b[38;5;124m'\u001b[39m\u001b[38;5;124mquantity\u001b[39m\u001b[38;5;124m'\u001b[39m, ascending\u001b[38;5;241m=\u001b[39m\u001b[38;5;28;01mFalse\u001b[39;00m)\u001b[38;5;241m.\u001b[39mhead(\u001b[38;5;241m1\u001b[39m)\n\u001b[0;32m      3\u001b[0m most_ordered_item_in_choice_desc\n",
      "\u001b[1;31mNameError\u001b[0m: name 'chipo' is not defined"
     ]
    }
   ],
   "source": [
    "most_ordered_item_in_choice_desc = chipo.groupby(['choice_description']).sum().sort_values('quantity', ascending=False).head(1)\n",
    "\n",
    "most_ordered_item_in_choice_desc"
   ]
  },
  {
   "cell_type": "markdown",
   "id": "5f1651c3",
   "metadata": {},
   "source": [
    "### Step 12. How many items were orderd in total?"
   ]
  },
  {
   "cell_type": "code",
   "execution_count": 9,
   "id": "e0074a61",
   "metadata": {},
   "outputs": [
    {
     "ename": "NameError",
     "evalue": "name 'chipo' is not defined",
     "output_type": "error",
     "traceback": [
      "\u001b[1;31m---------------------------------------------------------------------------\u001b[0m",
      "\u001b[1;31mNameError\u001b[0m                                 Traceback (most recent call last)",
      "Input \u001b[1;32mIn [9]\u001b[0m, in \u001b[0;36m<cell line: 1>\u001b[1;34m()\u001b[0m\n\u001b[1;32m----> 1\u001b[0m \u001b[38;5;28mprint\u001b[39m(\u001b[38;5;124mf\u001b[39m\u001b[38;5;124m'\u001b[39m\u001b[38;5;124mNumber of items ordered in total = \u001b[39m\u001b[38;5;132;01m{\u001b[39;00mchipo\u001b[38;5;241m.\u001b[39mquantity\u001b[38;5;241m.\u001b[39msum()\u001b[38;5;132;01m}\u001b[39;00m\u001b[38;5;124m'\u001b[39m)\n",
      "\u001b[1;31mNameError\u001b[0m: name 'chipo' is not defined"
     ]
    }
   ],
   "source": [
    "print(f'Number of items ordered in total = {chipo.quantity.sum()}')"
   ]
  },
  {
   "cell_type": "markdown",
   "id": "a4c39214",
   "metadata": {},
   "source": [
    "### Step 13.\n",
    "&nbsp;&nbsp;&nbsp;&nbsp;• Turn the item price into a float"
   ]
  },
  {
   "cell_type": "code",
   "execution_count": 10,
   "id": "1fe76b28",
   "metadata": {},
   "outputs": [
    {
     "data": {
      "text/plain": [
       "\"# Create a temporary df 'temp_df' to split the item_price\\ntemp_df = chipo['item_price'].str.split('$', n = 1, expand = True)\\n  \\nchipo['temp_price']= temp_df[1]\\n\\n# Since, we have extracted the price in 'temp_df', let's delete the existing 'item_price' column\\nchipo.drop(columns =['item_price'], inplace = True)\\n\\n# rename 'temp_price' column back to 'item_price'\\nchipo.rename(columns = {'temp_price':'item_price'}, inplace = True)\\n\\n# Let's set the datatype of 'item_price' column to 'float'\\nchipo.item_price.astype(float) \""
      ]
     },
     "execution_count": 10,
     "metadata": {},
     "output_type": "execute_result"
    }
   ],
   "source": [
    "'''# Create a temporary df 'temp_df' to split the item_price\n",
    "temp_df = chipo['item_price'].str.split('$', n = 1, expand = True)\n",
    "  \n",
    "chipo['temp_price']= temp_df[1]\n",
    "\n",
    "# Since, we have extracted the price in 'temp_df', let's delete the existing 'item_price' column\n",
    "chipo.drop(columns =['item_price'], inplace = True)\n",
    "\n",
    "# rename 'temp_price' column back to 'item_price'\n",
    "chipo.rename(columns = {'temp_price':'item_price'}, inplace = True)\n",
    "\n",
    "# Let's set the datatype of 'item_price' column to 'float'\n",
    "chipo.item_price.astype(float) '''"
   ]
  },
  {
   "cell_type": "markdown",
   "id": "b72dfee6",
   "metadata": {},
   "source": [
    "### Step 13.\n",
    "&nbsp;&nbsp;&nbsp;&nbsp;• Check the item price type"
   ]
  },
  {
   "cell_type": "code",
   "execution_count": 11,
   "id": "a3bdde5b",
   "metadata": {},
   "outputs": [
    {
     "ename": "NameError",
     "evalue": "name 'chipo' is not defined",
     "output_type": "error",
     "traceback": [
      "\u001b[1;31m---------------------------------------------------------------------------\u001b[0m",
      "\u001b[1;31mNameError\u001b[0m                                 Traceback (most recent call last)",
      "Input \u001b[1;32mIn [11]\u001b[0m, in \u001b[0;36m<cell line: 1>\u001b[1;34m()\u001b[0m\n\u001b[1;32m----> 1\u001b[0m \u001b[43mchipo\u001b[49m\u001b[38;5;241m.\u001b[39mitem_price\u001b[38;5;241m.\u001b[39mdtype\n",
      "\u001b[1;31mNameError\u001b[0m: name 'chipo' is not defined"
     ]
    }
   ],
   "source": [
    "chipo.item_price.dtype # Check the datatype of 'item_price' column"
   ]
  },
  {
   "cell_type": "markdown",
   "id": "03513b5a",
   "metadata": {},
   "source": [
    "### Step 13.\n",
    "&nbsp;&nbsp;&nbsp;&nbsp;• Create a lambda function and change the type of item price"
   ]
  },
  {
   "cell_type": "code",
   "execution_count": 12,
   "id": "4e24037e",
   "metadata": {},
   "outputs": [
    {
     "ename": "NameError",
     "evalue": "name 'chipo' is not defined",
     "output_type": "error",
     "traceback": [
      "\u001b[1;31m---------------------------------------------------------------------------\u001b[0m",
      "\u001b[1;31mNameError\u001b[0m                                 Traceback (most recent call last)",
      "Input \u001b[1;32mIn [12]\u001b[0m, in \u001b[0;36m<cell line: 1>\u001b[1;34m()\u001b[0m\n\u001b[1;32m----> 1\u001b[0m chipo\u001b[38;5;241m.\u001b[39mitem_price \u001b[38;5;241m=\u001b[39m \u001b[43mchipo\u001b[49m\u001b[38;5;241m.\u001b[39mitem_price\u001b[38;5;241m.\u001b[39mapply(\u001b[38;5;28;01mlambda\u001b[39;00m x : \u001b[38;5;28mfloat\u001b[39m(x[\u001b[38;5;241m1\u001b[39m:\u001b[38;5;241m-\u001b[39m\u001b[38;5;241m1\u001b[39m]))\n",
      "\u001b[1;31mNameError\u001b[0m: name 'chipo' is not defined"
     ]
    }
   ],
   "source": [
    "chipo.item_price = chipo.item_price.apply(lambda x : float(x[1:-1]))"
   ]
  },
  {
   "cell_type": "markdown",
   "id": "35d0099d",
   "metadata": {},
   "source": [
    "### Step 13.\n",
    "&nbsp;&nbsp;&nbsp;&nbsp;• Check the item price type<br>"
   ]
  },
  {
   "cell_type": "code",
   "execution_count": 13,
   "id": "2287e3d2",
   "metadata": {},
   "outputs": [
    {
     "ename": "NameError",
     "evalue": "name 'chipo' is not defined",
     "output_type": "error",
     "traceback": [
      "\u001b[1;31m---------------------------------------------------------------------------\u001b[0m",
      "\u001b[1;31mNameError\u001b[0m                                 Traceback (most recent call last)",
      "Input \u001b[1;32mIn [13]\u001b[0m, in \u001b[0;36m<cell line: 1>\u001b[1;34m()\u001b[0m\n\u001b[1;32m----> 1\u001b[0m \u001b[43mchipo\u001b[49m\u001b[38;5;241m.\u001b[39mitem_price\u001b[38;5;241m.\u001b[39mdtype\n",
      "\u001b[1;31mNameError\u001b[0m: name 'chipo' is not defined"
     ]
    }
   ],
   "source": [
    "chipo.item_price.dtype"
   ]
  },
  {
   "cell_type": "markdown",
   "id": "daa98824",
   "metadata": {},
   "source": [
    "### Step 14. How much was the revenue for the period in the dataset?"
   ]
  },
  {
   "cell_type": "code",
   "execution_count": 14,
   "id": "f228351f",
   "metadata": {},
   "outputs": [
    {
     "ename": "NameError",
     "evalue": "name 'chipo' is not defined",
     "output_type": "error",
     "traceback": [
      "\u001b[1;31m---------------------------------------------------------------------------\u001b[0m",
      "\u001b[1;31mNameError\u001b[0m                                 Traceback (most recent call last)",
      "Input \u001b[1;32mIn [14]\u001b[0m, in \u001b[0;36m<cell line: 1>\u001b[1;34m()\u001b[0m\n\u001b[1;32m----> 1\u001b[0m revenue \u001b[38;5;241m=\u001b[39m (\u001b[43mchipo\u001b[49m\u001b[38;5;241m.\u001b[39mquantity \u001b[38;5;241m*\u001b[39m chipo\u001b[38;5;241m.\u001b[39mitem_price)\u001b[38;5;241m.\u001b[39msum()\n\u001b[0;32m      3\u001b[0m \u001b[38;5;28mprint\u001b[39m(\u001b[38;5;124mf\u001b[39m\u001b[38;5;124m'\u001b[39m\u001b[38;5;124mTotal revenue for the given period is $\u001b[39m\u001b[38;5;132;01m{\u001b[39;00mrevenue\u001b[38;5;132;01m}\u001b[39;00m\u001b[38;5;124m'\u001b[39m)\n",
      "\u001b[1;31mNameError\u001b[0m: name 'chipo' is not defined"
     ]
    }
   ],
   "source": [
    "revenue = (chipo.quantity * chipo.item_price).sum()\n",
    "\n",
    "print(f'Total revenue for the given period is ${revenue}')"
   ]
  },
  {
   "cell_type": "markdown",
   "id": "de0496b0",
   "metadata": {},
   "source": [
    "### Step 15. How many orders were made in the period?"
   ]
  },
  {
   "cell_type": "code",
   "execution_count": 15,
   "id": "044dbced",
   "metadata": {},
   "outputs": [
    {
     "ename": "NameError",
     "evalue": "name 'chipo' is not defined",
     "output_type": "error",
     "traceback": [
      "\u001b[1;31m---------------------------------------------------------------------------\u001b[0m",
      "\u001b[1;31mNameError\u001b[0m                                 Traceback (most recent call last)",
      "Input \u001b[1;32mIn [15]\u001b[0m, in \u001b[0;36m<cell line: 1>\u001b[1;34m()\u001b[0m\n\u001b[1;32m----> 1\u001b[0m orders \u001b[38;5;241m=\u001b[39m \u001b[43mchipo\u001b[49m\u001b[38;5;241m.\u001b[39morder_id\u001b[38;5;241m.\u001b[39mvalue_counts()\u001b[38;5;241m.\u001b[39mcount() \u001b[38;5;66;03m# order_id has repetitive data while we need unique orders only \u001b[39;00m\n\u001b[0;32m      3\u001b[0m \u001b[38;5;28mprint\u001b[39m(\u001b[38;5;124mf\u001b[39m\u001b[38;5;124m'\u001b[39m\u001b[38;5;124mTotal number of orders in the given period are \u001b[39m\u001b[38;5;132;01m{\u001b[39;00morders\u001b[38;5;132;01m}\u001b[39;00m\u001b[38;5;124m'\u001b[39m)\n",
      "\u001b[1;31mNameError\u001b[0m: name 'chipo' is not defined"
     ]
    }
   ],
   "source": [
    "orders = chipo.order_id.value_counts().count() # order_id has repetitive data while we need unique orders only \n",
    "\n",
    "print(f'Total number of orders in the given period are {orders}')"
   ]
  },
  {
   "cell_type": "markdown",
   "id": "5bedd5b5",
   "metadata": {},
   "source": [
    "### Step 16. What is the average revenue amount per order?"
   ]
  },
  {
   "cell_type": "code",
   "execution_count": 16,
   "id": "e9dccc04",
   "metadata": {},
   "outputs": [
    {
     "ename": "NameError",
     "evalue": "name 'chipo' is not defined",
     "output_type": "error",
     "traceback": [
      "\u001b[1;31m---------------------------------------------------------------------------\u001b[0m",
      "\u001b[1;31mNameError\u001b[0m                                 Traceback (most recent call last)",
      "Input \u001b[1;32mIn [16]\u001b[0m, in \u001b[0;36m<cell line: 1>\u001b[1;34m()\u001b[0m\n\u001b[1;32m----> 1\u001b[0m temp_chipo \u001b[38;5;241m=\u001b[39m \u001b[43mchipo\u001b[49m\u001b[38;5;241m.\u001b[39mloc[:,(\u001b[38;5;124m'\u001b[39m\u001b[38;5;124morder_id\u001b[39m\u001b[38;5;124m'\u001b[39m, \u001b[38;5;124m'\u001b[39m\u001b[38;5;124mquantity\u001b[39m\u001b[38;5;124m'\u001b[39m, \u001b[38;5;124m'\u001b[39m\u001b[38;5;124mitem_price\u001b[39m\u001b[38;5;124m'\u001b[39m)]\n\u001b[0;32m      3\u001b[0m temp_chipo[\u001b[38;5;124m'\u001b[39m\u001b[38;5;124mrevenue\u001b[39m\u001b[38;5;124m'\u001b[39m] \u001b[38;5;241m=\u001b[39m temp_chipo[\u001b[38;5;124m'\u001b[39m\u001b[38;5;124mquantity\u001b[39m\u001b[38;5;124m'\u001b[39m] \u001b[38;5;241m*\u001b[39m temp_chipo[\u001b[38;5;124m'\u001b[39m\u001b[38;5;124mitem_price\u001b[39m\u001b[38;5;124m'\u001b[39m] \u001b[38;5;66;03m# let's find revenue\u001b[39;00m\n\u001b[0;32m      5\u001b[0m avg_revenue_amt_per_order \u001b[38;5;241m=\u001b[39m temp_chipo\u001b[38;5;241m.\u001b[39mgroupby(by\u001b[38;5;241m=\u001b[39m[\u001b[38;5;124m'\u001b[39m\u001b[38;5;124morder_id\u001b[39m\u001b[38;5;124m'\u001b[39m])\u001b[38;5;241m.\u001b[39msum()\u001b[38;5;241m.\u001b[39mmean()[\u001b[38;5;124m'\u001b[39m\u001b[38;5;124mrevenue\u001b[39m\u001b[38;5;124m'\u001b[39m]\n",
      "\u001b[1;31mNameError\u001b[0m: name 'chipo' is not defined"
     ]
    }
   ],
   "source": [
    "temp_chipo = chipo.loc[:,('order_id', 'quantity', 'item_price')]\n",
    "\n",
    "temp_chipo['revenue'] = temp_chipo['quantity'] * temp_chipo['item_price'] # let's find revenue\n",
    "\n",
    "avg_revenue_amt_per_order = temp_chipo.groupby(by=['order_id']).sum().mean()['revenue']\n",
    "\n",
    "print(f'The average revenue amount per order is {avg_revenue_amt_per_order}')"
   ]
  },
  {
   "cell_type": "markdown",
   "id": "ade19e97",
   "metadata": {},
   "source": [
    "### Step 17. How many different items are sold?"
   ]
  },
  {
   "cell_type": "code",
   "execution_count": 17,
   "id": "db9af1df",
   "metadata": {},
   "outputs": [
    {
     "ename": "NameError",
     "evalue": "name 'chipo' is not defined",
     "output_type": "error",
     "traceback": [
      "\u001b[1;31m---------------------------------------------------------------------------\u001b[0m",
      "\u001b[1;31mNameError\u001b[0m                                 Traceback (most recent call last)",
      "Input \u001b[1;32mIn [17]\u001b[0m, in \u001b[0;36m<cell line: 1>\u001b[1;34m()\u001b[0m\n\u001b[1;32m----> 1\u001b[0m items_sold \u001b[38;5;241m=\u001b[39m \u001b[43mchipo\u001b[49m\u001b[38;5;241m.\u001b[39mitem_name\u001b[38;5;241m.\u001b[39mvalue_counts()\u001b[38;5;241m.\u001b[39mcount()\n\u001b[0;32m      3\u001b[0m \u001b[38;5;28mprint\u001b[39m(\u001b[38;5;124mf\u001b[39m\u001b[38;5;124m'\u001b[39m\u001b[38;5;124mTotal different items sold = \u001b[39m\u001b[38;5;132;01m{\u001b[39;00mitems_sold\u001b[38;5;132;01m}\u001b[39;00m\u001b[38;5;124m'\u001b[39m)\n",
      "\u001b[1;31mNameError\u001b[0m: name 'chipo' is not defined"
     ]
    }
   ],
   "source": [
    "items_sold = chipo.item_name.value_counts().count()\n",
    "\n",
    "print(f'Total different items sold = {items_sold}')"
   ]
  },
  {
   "cell_type": "markdown",
   "id": "9addcd71",
   "metadata": {},
   "source": [
    "<h3>Q6 U.S. Marriages and Divorces</h3>\n",
    "\n",
    "---\n",
    "\n",
    "Create a line plot showing the number of marriages and divorces per capita in the U.S. between 1867 and 2014. <br>\n",
    "Label both lines and show the legend. Don't forget to label your axes!"
   ]
  },
  {
   "cell_type": "code",
   "execution_count": 18,
   "id": "1a444ea7",
   "metadata": {},
   "outputs": [
    {
     "data": {
      "text/html": [
       "<div>\n",
       "<style scoped>\n",
       "    .dataframe tbody tr th:only-of-type {\n",
       "        vertical-align: middle;\n",
       "    }\n",
       "\n",
       "    .dataframe tbody tr th {\n",
       "        vertical-align: top;\n",
       "    }\n",
       "\n",
       "    .dataframe thead th {\n",
       "        text-align: right;\n",
       "    }\n",
       "</style>\n",
       "<table border=\"1\" class=\"dataframe\">\n",
       "  <thead>\n",
       "    <tr style=\"text-align: right;\">\n",
       "      <th></th>\n",
       "      <th>Year</th>\n",
       "      <th>Marriages</th>\n",
       "      <th>Divorces</th>\n",
       "      <th>Population</th>\n",
       "      <th>Marriages_per_1000</th>\n",
       "      <th>Divorces_per_1000</th>\n",
       "    </tr>\n",
       "  </thead>\n",
       "  <tbody>\n",
       "    <tr>\n",
       "      <th>0</th>\n",
       "      <td>1867</td>\n",
       "      <td>357000.0</td>\n",
       "      <td>10000.0</td>\n",
       "      <td>36970000</td>\n",
       "      <td>9.7</td>\n",
       "      <td>0.3</td>\n",
       "    </tr>\n",
       "    <tr>\n",
       "      <th>1</th>\n",
       "      <td>1868</td>\n",
       "      <td>345000.0</td>\n",
       "      <td>10000.0</td>\n",
       "      <td>37885000</td>\n",
       "      <td>9.1</td>\n",
       "      <td>0.3</td>\n",
       "    </tr>\n",
       "    <tr>\n",
       "      <th>2</th>\n",
       "      <td>1869</td>\n",
       "      <td>348000.0</td>\n",
       "      <td>11000.0</td>\n",
       "      <td>38870000</td>\n",
       "      <td>9.0</td>\n",
       "      <td>0.3</td>\n",
       "    </tr>\n",
       "    <tr>\n",
       "      <th>3</th>\n",
       "      <td>1870</td>\n",
       "      <td>352000.0</td>\n",
       "      <td>11000.0</td>\n",
       "      <td>39905000</td>\n",
       "      <td>8.8</td>\n",
       "      <td>0.3</td>\n",
       "    </tr>\n",
       "    <tr>\n",
       "      <th>4</th>\n",
       "      <td>1871</td>\n",
       "      <td>359000.0</td>\n",
       "      <td>12000.0</td>\n",
       "      <td>41010000</td>\n",
       "      <td>8.8</td>\n",
       "      <td>0.3</td>\n",
       "    </tr>\n",
       "    <tr>\n",
       "      <th>...</th>\n",
       "      <td>...</td>\n",
       "      <td>...</td>\n",
       "      <td>...</td>\n",
       "      <td>...</td>\n",
       "      <td>...</td>\n",
       "      <td>...</td>\n",
       "    </tr>\n",
       "    <tr>\n",
       "      <th>140</th>\n",
       "      <td>2007</td>\n",
       "      <td>2197000.0</td>\n",
       "      <td>856000.0</td>\n",
       "      <td>301696000</td>\n",
       "      <td>7.3</td>\n",
       "      <td>2.8</td>\n",
       "    </tr>\n",
       "    <tr>\n",
       "      <th>141</th>\n",
       "      <td>2008</td>\n",
       "      <td>2157000.0</td>\n",
       "      <td>844000.0</td>\n",
       "      <td>304543000</td>\n",
       "      <td>7.1</td>\n",
       "      <td>2.8</td>\n",
       "    </tr>\n",
       "    <tr>\n",
       "      <th>142</th>\n",
       "      <td>2009</td>\n",
       "      <td>2080000.0</td>\n",
       "      <td>840000.0</td>\n",
       "      <td>307240000</td>\n",
       "      <td>6.8</td>\n",
       "      <td>2.7</td>\n",
       "    </tr>\n",
       "    <tr>\n",
       "      <th>143</th>\n",
       "      <td>2010</td>\n",
       "      <td>2096000.0</td>\n",
       "      <td>872000.0</td>\n",
       "      <td>309776000</td>\n",
       "      <td>6.8</td>\n",
       "      <td>2.8</td>\n",
       "    </tr>\n",
       "    <tr>\n",
       "      <th>144</th>\n",
       "      <td>2011</td>\n",
       "      <td>2118000.0</td>\n",
       "      <td>877000.0</td>\n",
       "      <td>312034000</td>\n",
       "      <td>6.8</td>\n",
       "      <td>2.8</td>\n",
       "    </tr>\n",
       "  </tbody>\n",
       "</table>\n",
       "<p>145 rows × 6 columns</p>\n",
       "</div>"
      ],
      "text/plain": [
       "     Year  Marriages  Divorces  Population  Marriages_per_1000  \\\n",
       "0    1867   357000.0   10000.0    36970000                 9.7   \n",
       "1    1868   345000.0   10000.0    37885000                 9.1   \n",
       "2    1869   348000.0   11000.0    38870000                 9.0   \n",
       "3    1870   352000.0   11000.0    39905000                 8.8   \n",
       "4    1871   359000.0   12000.0    41010000                 8.8   \n",
       "..    ...        ...       ...         ...                 ...   \n",
       "140  2007  2197000.0  856000.0   301696000                 7.3   \n",
       "141  2008  2157000.0  844000.0   304543000                 7.1   \n",
       "142  2009  2080000.0  840000.0   307240000                 6.8   \n",
       "143  2010  2096000.0  872000.0   309776000                 6.8   \n",
       "144  2011  2118000.0  877000.0   312034000                 6.8   \n",
       "\n",
       "     Divorces_per_1000  \n",
       "0                  0.3  \n",
       "1                  0.3  \n",
       "2                  0.3  \n",
       "3                  0.3  \n",
       "4                  0.3  \n",
       "..                 ...  \n",
       "140                2.8  \n",
       "141                2.8  \n",
       "142                2.7  \n",
       "143                2.8  \n",
       "144                2.8  \n",
       "\n",
       "[145 rows x 6 columns]"
      ]
     },
     "execution_count": 18,
     "metadata": {},
     "output_type": "execute_result"
    }
   ],
   "source": [
    "import pandas as pd\n",
    "import matplotlib.pyplot as plt\n",
    "\n",
    "df = pd.read_csv('us-marriages-divorces-1867-2014.csv')\n",
    "\n",
    "df"
   ]
  },
  {
   "cell_type": "code",
   "execution_count": 19,
   "id": "a27778cf",
   "metadata": {},
   "outputs": [
    {
     "data": {
      "text/plain": [
       "<Figure size 432x288 with 0 Axes>"
      ]
     },
     "metadata": {},
     "output_type": "display_data"
    },
    {
     "data": {
      "image/png": "[encoded data removed]",
      "text/plain": [
       "<Figure size 1080x720 with 1 Axes>"
      ]
     },
     "metadata": {
      "needs_background": "light"
     },
     "output_type": "display_data"
    }
   ],
   "source": [
    "fig = plt.figure()\n",
    "\n",
    "plt.rcParams[\"figure.figsize\"] = [15, 10] # set the figure size\n",
    "\n",
    "df.plot( 'Year', ['Marriages_per_1000','Divorces_per_1000'], label=['Marriages', 'Divorces'])\n",
    "\n",
    "plt.title('Marriages and Divorces per capita in the U.S. between 1867 and 2014', color = 'k', fontsize = 22)\n",
    "\n",
    "plt.xlabel('Year', color = 'k', fontsize = 17)\n",
    "plt.ylabel('Capita', color = 'k', fontsize = 17)\n",
    "\n",
    "plt.show()"
   ]
  },
  {
   "cell_type": "markdown",
   "id": "bee905ab",
   "metadata": {},
   "source": [
    "<h3>Q7 U.S. Marriages and Divorces</h3>\n",
    "\n",
    "---\n",
    "Create a vertical bar chart comparing the number of marriages and divorces per capita in the U.S. between 1900, 1950, and 2000.<br>\n",
    "Don't forget to label your axes!"
   ]
  },
  {
   "cell_type": "code",
   "execution_count": 20,
   "id": "13324524",
   "metadata": {},
   "outputs": [
    {
     "data": {
      "text/html": [
       "<div>\n",
       "<style scoped>\n",
       "    .dataframe tbody tr th:only-of-type {\n",
       "        vertical-align: middle;\n",
       "    }\n",
       "\n",
       "    .dataframe tbody tr th {\n",
       "        vertical-align: top;\n",
       "    }\n",
       "\n",
       "    .dataframe thead th {\n",
       "        text-align: right;\n",
       "    }\n",
       "</style>\n",
       "<table border=\"1\" class=\"dataframe\">\n",
       "  <thead>\n",
       "    <tr style=\"text-align: right;\">\n",
       "      <th></th>\n",
       "      <th>Year</th>\n",
       "      <th>Marriages_per_1000</th>\n",
       "      <th>Divorces_per_1000</th>\n",
       "    </tr>\n",
       "  </thead>\n",
       "  <tbody>\n",
       "    <tr>\n",
       "      <th>33</th>\n",
       "      <td>1900</td>\n",
       "      <td>9.3</td>\n",
       "      <td>0.7</td>\n",
       "    </tr>\n",
       "    <tr>\n",
       "      <th>83</th>\n",
       "      <td>1950</td>\n",
       "      <td>11.0</td>\n",
       "      <td>2.5</td>\n",
       "    </tr>\n",
       "    <tr>\n",
       "      <th>133</th>\n",
       "      <td>2000</td>\n",
       "      <td>8.2</td>\n",
       "      <td>3.3</td>\n",
       "    </tr>\n",
       "  </tbody>\n",
       "</table>\n",
       "</div>"
      ],
      "text/plain": [
       "     Year  Marriages_per_1000  Divorces_per_1000\n",
       "33   1900                 9.3                0.7\n",
       "83   1950                11.0                2.5\n",
       "133  2000                 8.2                3.3"
      ]
     },
     "execution_count": 20,
     "metadata": {},
     "output_type": "execute_result"
    }
   ],
   "source": [
    "filter_by_years = (df['Year'] == 1900) | (df['Year'] == 1950) | (df['Year'] == 2000) \n",
    "\n",
    "df_2 = df.loc[filter_by_years, ['Year','Marriages_per_1000','Divorces_per_1000']]\n",
    "\n",
    "df_2"
   ]
  },
  {
   "cell_type": "code",
   "execution_count": 21,
   "id": "d6577d0e",
   "metadata": {
    "scrolled": false
   },
   "outputs": [
    {
     "name": "stderr",
     "output_type": "stream",
     "text": [
      "C:\\Users\\jaish\\AppData\\Local\\Temp\\ipykernel_5968\\274690039.py:1: FutureWarning: Passing a set as an indexer is deprecated and will raise in a future version. Use a list instead.\n",
      "  df_2[{'Marriages_per_1000','Divorces_per_1000'}].plot.bar()\n"
     ]
    },
    {
     "data": {
      "text/plain": [
       "([<matplotlib.axis.XTick at 0x205cdf48880>,\n",
       "  <matplotlib.axis.XTick at 0x205cdf48850>,\n",
       "  <matplotlib.axis.XTick at 0x205cdf6ebb0>],\n",
       " [Text(0, 0, '1900'), Text(1, 0, '1950'), Text(2, 0, '2000')])"
      ]
     },
     "execution_count": 21,
     "metadata": {},
     "output_type": "execute_result"
    },
    {
     "data": {
      "image/png": "[encoded data removed]",
      "text/plain": [
       "<Figure size 1080x720 with 1 Axes>"
      ]
     },
     "metadata": {
      "needs_background": "light"
     },
     "output_type": "display_data"
    }
   ],
   "source": [
    "df_2[{'Marriages_per_1000','Divorces_per_1000'}].plot.bar()\n",
    "\n",
    "plt.title(\"Marriages and Divorces per capita in the U.S. between 1900, 1950 and 2000\", color = 'k', fontsize = 22)\n",
    "\n",
    "plt.xlabel('Year', color = 'k', fontsize = 17)\n",
    "plt.ylabel('Capita', color = 'k', fontsize = 17)\n",
    "\n",
    "plt.xticks((0, 1, 2), (\"1900\", \"1950\", \"2000\"), rotation = 0)"
   ]
  },
  {
   "cell_type": "markdown",
   "id": "f1a8bca4",
   "metadata": {},
   "source": [
    "<h3>Q8 Actor Kill Counts</h3>\n",
    "\n",
    "---\n",
    "Create a horizontal bar chart that compares the deadliest actors in Hollywood. Sort the actors by their kill count and label each bar with the corresponding actor's name.<br>\n",
    "Don't forget to label your axes!"
   ]
  },
  {
   "cell_type": "code",
   "execution_count": 22,
   "id": "3e174673",
   "metadata": {
    "scrolled": false
   },
   "outputs": [
    {
     "data": {
      "text/plain": [
       "Text(0, 0.5, 'Actor')"
      ]
     },
     "execution_count": 22,
     "metadata": {},
     "output_type": "execute_result"
    },
    {
     "data": {
      "image/png": "[encoded data removed]",
      "text/plain": [
       "<Figure size 1080x720 with 1 Axes>"
      ]
     },
     "metadata": {
      "needs_background": "light"
     },
     "output_type": "display_data"
    }
   ],
   "source": [
    "df = pd.read_csv('actor_kill_counts.csv')\n",
    "\n",
    "sorted_df = df.sort_values(\"Count\", ascending = True)\n",
    "\n",
    "sorted_df.plot.barh(x='Actor', y='Count')\n",
    "\n",
    "plt.title('Hollywood Actors\\' Kill Count', fontsize=22)\n",
    "\n",
    "plt.xlabel('Kills Count', color = 'k', fontsize = 17)\n",
    "plt.ylabel('Actor', color = 'k', fontsize = 17)"
   ]
  },
  {
   "cell_type": "markdown",
   "id": "6c97377f",
   "metadata": {},
   "source": [
    "<h3>Q9 Roman Emperors that were assassinated</h3>\n",
    "\n",
    "---\n",
    "Create a pie chart showing the fraction of all Roman Emperors that were assassinated.<br>\n",
    "Make sure that the pie chart is an even circle, labels the categories, and shows the percentage breakdown of the categories."
   ]
  },
  {
   "cell_type": "code",
   "execution_count": 23,
   "id": "9da65446",
   "metadata": {},
   "outputs": [],
   "source": [
    "df = pd.read_csv('roman-emperor-reigns.csv')\n",
    "death_cause = df.groupby(\"Cause_of_Death\")['Emperor'].count()"
   ]
  },
  {
   "cell_type": "code",
   "execution_count": 24,
   "id": "50f18737",
   "metadata": {},
   "outputs": [
    {
     "data": {
      "text/plain": [
       "Text(0.5, 1.0, \"Roman Emperors' Cause of Death\")"
      ]
     },
     "execution_count": 24,
     "metadata": {},
     "output_type": "execute_result"
    },
    {
     "data": {
      "image/png": "[encoded data removed]",
      "text/plain": [
       "<Figure size 1080x720 with 1 Axes>"
      ]
     },
     "metadata": {},
     "output_type": "display_data"
    }
   ],
   "source": [
    "death_cause.plot.pie(autopct=\"%.1f%%\", fontsize = 17, explode=[0.01]*8)\n",
    "plt.title(\"Roman Emperors' Cause of Death\", color = 'Blue', fontsize = 22, fontweight ='bold')"
   ]
  },
  {
   "cell_type": "markdown",
   "id": "95b1a57c",
   "metadata": {},
   "source": [
    "<h3>Q10 Arcades Revenue vs. CS Doctrates</h3>\n",
    "\n",
    "---\n",
    "Create a scatter plot showing the relationship between the total revenue earned by arcades and the number of Computer Science PhDs awarded in the U.S. between 2000 and 2009.<br>\n",
    "Don't forget to label your axes!<br>\n",
    "Color each dot according to its year."
   ]
  },
  {
   "cell_type": "code",
   "execution_count": 25,
   "id": "ee7ba45d",
   "metadata": {},
   "outputs": [
    {
     "data": {
      "text/plain": [
       "Text(0, 0.5, 'CS Doctorates Awarded')"
      ]
     },
     "execution_count": 25,
     "metadata": {},
     "output_type": "execute_result"
    },
    {
     "data": {
      "image/png": "[encoded data removed]",
      "text/plain": [
       "<Figure size 360x288 with 1 Axes>"
      ]
     },
     "metadata": {
      "needs_background": "light"
     },
     "output_type": "display_data"
    }
   ],
   "source": [
    "revenue = pd.read_csv('arcade-revenue-vs-cs-doctorates.csv')\n",
    "\n",
    "colours = ['#800000','#f58231','#000075','#000000','#ffd8b1','#4363d8','#f032e6','#e6194B','#aaffc3','#fabed4']\n",
    "\n",
    "revenue.plot.scatter(x='Total Arcade Revenue (billions)', y='Computer Science Doctorates Awarded (US)', c=colours , s = 50, figsize = (5,4))\n",
    "\n",
    "plt.title('Revenue Vs CS Doctorates', color = 'Blue', fontsize = 17, fontweight='bold')\n",
    "plt.xlabel('Total Arcade Revenue (in billions)' , color = 'Red', fontsize = 13)\n",
    "plt.ylabel('CS Doctorates Awarded', color = 'Red', fontsize = 13)"
   ]
  },
  {
   "cell_type": "code",
   "execution_count": null,
   "id": "286079f3",
   "metadata": {},
   "outputs": [],
   "source": []
  },
  {
   "cell_type": "code",
   "execution_count": null,
   "id": "d073e2e6",
   "metadata": {},
   "outputs": [],
   "source": []
  },
  {
   "cell_type": "code",
   "execution_count": null,
   "id": "40bf1733",
   "metadata": {},
   "outputs": [],
   "source": []
  }
 ],
 "metadata": {
  "kernelspec": {
   "display_name": "Python 3 (ipykernel)",
   "language": "python",
   "name": "python3"
  },
  "language_info": {
   "codemirror_mode": {
    "name": "ipython",
    "version": 3
   },
   "file_extension": ".py",
   "mimetype": "text/x-python",
   "name": "python",
   "nbconvert_exporter": "python",
   "pygments_lexer": "ipython3",
   "version": "3.9.12"
  }
 },
 "nbformat": 4,
 "nbformat_minor": 5
}
